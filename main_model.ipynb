{
 "cells": [
  {
   "cell_type": "markdown",
   "id": "8c810670",
   "metadata": {},
   "source": [
    "Libraries Integration"
   ]
  },
  {
   "cell_type": "code",
   "execution_count": 3,
   "id": "24b54563",
   "metadata": {},
   "outputs": [],
   "source": [
    "import pandas as pd\n",
    "import numpy as np\n",
    "import matplotlib.pyplot as plt\n",
    "import seaborn as sb\n",
    "import tensorflow as tf\n",
    "import tensorflow.keras.layers as layers\n",
    "import sklearn.metrics as accuracy\n",
    "\n"
   ]
  },
  {
   "cell_type": "markdown",
   "id": "17300e5a",
   "metadata": {},
   "source": [
    "Loading training data\n"
   ]
  },
  {
   "cell_type": "code",
   "execution_count": 4,
   "id": "8500c141",
   "metadata": {},
   "outputs": [
    {
     "data": {
      "text/html": [
       "<div>\n",
       "<style scoped>\n",
       "    .dataframe tbody tr th:only-of-type {\n",
       "        vertical-align: middle;\n",
       "    }\n",
       "\n",
       "    .dataframe tbody tr th {\n",
       "        vertical-align: top;\n",
       "    }\n",
       "\n",
       "    .dataframe thead th {\n",
       "        text-align: right;\n",
       "    }\n",
       "</style>\n",
       "<table border=\"1\" class=\"dataframe\">\n",
       "  <thead>\n",
       "    <tr style=\"text-align: right;\">\n",
       "      <th></th>\n",
       "      <th>#</th>\n",
       "      <th>File_Name</th>\n",
       "      <th>Class</th>\n",
       "    </tr>\n",
       "  </thead>\n",
       "  <tbody>\n",
       "    <tr>\n",
       "      <th>0</th>\n",
       "      <td>1</td>\n",
       "      <td>AIN (1).JPG</td>\n",
       "      <td>ain</td>\n",
       "    </tr>\n",
       "    <tr>\n",
       "      <th>1</th>\n",
       "      <td>2</td>\n",
       "      <td>AIN (10).JPG</td>\n",
       "      <td>ain</td>\n",
       "    </tr>\n",
       "    <tr>\n",
       "      <th>2</th>\n",
       "      <td>3</td>\n",
       "      <td>AIN (100).jpg</td>\n",
       "      <td>ain</td>\n",
       "    </tr>\n",
       "    <tr>\n",
       "      <th>3</th>\n",
       "      <td>4</td>\n",
       "      <td>AIN (1000).JPG</td>\n",
       "      <td>ain</td>\n",
       "    </tr>\n",
       "    <tr>\n",
       "      <th>4</th>\n",
       "      <td>5</td>\n",
       "      <td>AIN (1001).JPG</td>\n",
       "      <td>ain</td>\n",
       "    </tr>\n",
       "  </tbody>\n",
       "</table>\n",
       "</div>"
      ],
      "text/plain": [
       "   #       File_Name Class\n",
       "0  1     AIN (1).JPG   ain\n",
       "1  2    AIN (10).JPG   ain\n",
       "2  3   AIN (100).jpg   ain\n",
       "3  4  AIN (1000).JPG   ain\n",
       "4  5  AIN (1001).JPG   ain"
      ]
     },
     "execution_count": 4,
     "metadata": {},
     "output_type": "execute_result"
    }
   ],
   "source": [
    "labels_file = pd.read_csv(\"ArSL_Data_Labels.csv\")\n",
    "labels_file.head()"
   ]
  },
  {
   "cell_type": "code",
   "execution_count": 5,
   "id": "122046f8",
   "metadata": {},
   "outputs": [
    {
     "name": "stdout",
     "output_type": "stream",
     "text": [
      "Found 54049 files belonging to 32 classes.\n"
     ]
    }
   ],
   "source": [
    "from sklearn.preprocessing import LabelEncoder\n",
    "\n",
    "encoder = LabelEncoder()\n",
    "labels = encoder.fit_transform(labels_file['Class'])   # ['ain','ba',...] → [0,1,...]\n",
    "\n",
    "df = tf.keras.utils.image_dataset_from_directory(\n",
    "    \"ArASL_Database_54K_Final\",\n",
    "    labels=labels.tolist(),\n",
    "    label_mode='int',\n",
    "    color_mode=\"grayscale\",\n",
    "    image_size=(64, 64),\n",
    "    batch_size=32\n",
    ")\n",
    "\n",
    "num_classes = len(encoder.classes_)"
   ]
  },
  {
   "cell_type": "code",
   "execution_count": 6,
   "id": "8d4b1c48",
   "metadata": {},
   "outputs": [],
   "source": [
    "size = df.cardinality().numpy()\n",
    "train_size = int(0.8*size)\n",
    "test_size = size - train_size\n",
    "train_set = df.take(train_size)\n",
    "test_set = df.skip(train_size)"
   ]
  },
  {
   "cell_type": "code",
   "execution_count": 7,
   "id": "b66e68c7",
   "metadata": {},
   "outputs": [
    {
     "name": "stderr",
     "output_type": "stream",
     "text": [
      "c:\\Users\\YOUSSEF\\AppData\\Local\\Programs\\Python\\Python313\\Lib\\site-packages\\keras\\src\\layers\\preprocessing\\tf_data_layer.py:19: UserWarning: Do not pass an `input_shape`/`input_dim` argument to a layer. When using Sequential models, prefer using an `Input(shape)` object as the first layer in the model instead.\n",
      "  super().__init__(**kwargs)\n"
     ]
    }
   ],
   "source": [
    "normalization = layers.Rescaling(1./255,input_shape = (64,64,1))\n",
    "def normalize(x,y):\n",
    "    return normalization(x), y\n",
    "train_set = train_set.map(normalize)\n",
    "test_set = test_set.map(normalize)\n"
   ]
  },
  {
   "cell_type": "code",
   "execution_count": null,
   "id": "8d5cf396",
   "metadata": {},
   "outputs": [
    {
     "data": {
      "text/plain": [
       "\"\\n###Accuracy: 50%\\nmodel1 = tf.keras.Sequential([\\n    layers.Flatten(),\\n    layers.Dense(units = 128,activation = 'relu'),\\n    layers.Dense(units = 64,activation = 'relu'),\\n    layers.Dense(units = num_classes,activation = 'softmax')\\n])\\n\""
      ]
     },
     "execution_count": 8,
     "metadata": {},
     "output_type": "execute_result"
    }
   ],
   "source": [
    "###Accuracy: 94%\n",
    "model = tf.keras.Sequential([\n",
    "    layers.Conv2D(32, (3,3), activation='relu'),\n",
    "    layers.MaxPooling2D(),\n",
    "\n",
    "    layers.Conv2D(64, (3,3), activation='relu'),\n",
    "    layers.MaxPooling2D(),\n",
    "\n",
    "    layers.Conv2D(128, (3,3), activation='relu'),\n",
    "    layers.MaxPooling2D(),\n",
    "\n",
    "    layers.Flatten(),\n",
    "    layers.Dense(128, activation='relu'),\n",
    "    layers.Dropout(0.5),\n",
    "    layers.Dense(num_classes, activation='softmax')\n",
    "])\n",
    "'''\n",
    "###Accuracy: 50%\n",
    "model1 = tf.keras.Sequential([\n",
    "    layers.Flatten(),\n",
    "    layers.Dense(units = 128,activation = 'relu'),\n",
    "    layers.Dense(units = 64,activation = 'relu'),\n",
    "    layers.Dense(units = num_classes,activation = 'softmax')\n",
    "])\n",
    "'''"
   ]
  },
  {
   "cell_type": "code",
   "execution_count": 9,
   "id": "91334158",
   "metadata": {},
   "outputs": [],
   "source": [
    "model.compile(\n",
    "    optimizer='adam',\n",
    "    loss=tf.losses.SparseCategoricalCrossentropy(),\n",
    "    metrics=['accuracy']\n",
    ")"
   ]
  },
  {
   "cell_type": "code",
   "execution_count": 10,
   "id": "ad914ec3",
   "metadata": {},
   "outputs": [
    {
     "name": "stdout",
     "output_type": "stream",
     "text": [
      "Epoch 1/20\n",
      "\u001b[1m1352/1352\u001b[0m \u001b[32m━━━━━━━━━━━━━━━━━━━━\u001b[0m\u001b[37m\u001b[0m \u001b[1m123s\u001b[0m 89ms/step - accuracy: 0.4584 - loss: 1.7711\n",
      "Epoch 2/20\n",
      "\u001b[1m1352/1352\u001b[0m \u001b[32m━━━━━━━━━━━━━━━━━━━━\u001b[0m\u001b[37m\u001b[0m \u001b[1m67s\u001b[0m 50ms/step - accuracy: 0.7807 - loss: 0.6570\n",
      "Epoch 3/20\n",
      "\u001b[1m1352/1352\u001b[0m \u001b[32m━━━━━━━━━━━━━━━━━━━━\u001b[0m\u001b[37m\u001b[0m \u001b[1m65s\u001b[0m 48ms/step - accuracy: 0.8511 - loss: 0.4519\n",
      "Epoch 4/20\n",
      "\u001b[1m1352/1352\u001b[0m \u001b[32m━━━━━━━━━━━━━━━━━━━━\u001b[0m\u001b[37m\u001b[0m \u001b[1m62s\u001b[0m 45ms/step - accuracy: 0.8819 - loss: 0.3565\n",
      "Epoch 5/20\n",
      "\u001b[1m1352/1352\u001b[0m \u001b[32m━━━━━━━━━━━━━━━━━━━━\u001b[0m\u001b[37m\u001b[0m \u001b[1m62s\u001b[0m 46ms/step - accuracy: 0.9042 - loss: 0.2914\n",
      "Epoch 6/20\n",
      "\u001b[1m1352/1352\u001b[0m \u001b[32m━━━━━━━━━━━━━━━━━━━━\u001b[0m\u001b[37m\u001b[0m \u001b[1m63s\u001b[0m 47ms/step - accuracy: 0.9189 - loss: 0.2483\n",
      "Epoch 7/20\n",
      "\u001b[1m1352/1352\u001b[0m \u001b[32m━━━━━━━━━━━━━━━━━━━━\u001b[0m\u001b[37m\u001b[0m \u001b[1m66s\u001b[0m 49ms/step - accuracy: 0.9272 - loss: 0.2177\n",
      "Epoch 8/20\n",
      "\u001b[1m1352/1352\u001b[0m \u001b[32m━━━━━━━━━━━━━━━━━━━━\u001b[0m\u001b[37m\u001b[0m \u001b[1m62s\u001b[0m 46ms/step - accuracy: 0.9345 - loss: 0.1947\n",
      "Epoch 9/20\n",
      "\u001b[1m1352/1352\u001b[0m \u001b[32m━━━━━━━━━━━━━━━━━━━━\u001b[0m\u001b[37m\u001b[0m \u001b[1m63s\u001b[0m 47ms/step - accuracy: 0.9414 - loss: 0.1753\n",
      "Epoch 10/20\n",
      "\u001b[1m1352/1352\u001b[0m \u001b[32m━━━━━━━━━━━━━━━━━━━━\u001b[0m\u001b[37m\u001b[0m \u001b[1m66s\u001b[0m 48ms/step - accuracy: 0.9444 - loss: 0.1636\n",
      "Epoch 11/20\n",
      "\u001b[1m1352/1352\u001b[0m \u001b[32m━━━━━━━━━━━━━━━━━━━━\u001b[0m\u001b[37m\u001b[0m \u001b[1m61s\u001b[0m 45ms/step - accuracy: 0.9500 - loss: 0.1493\n",
      "Epoch 12/20\n",
      "\u001b[1m1352/1352\u001b[0m \u001b[32m━━━━━━━━━━━━━━━━━━━━\u001b[0m\u001b[37m\u001b[0m \u001b[1m61s\u001b[0m 45ms/step - accuracy: 0.9533 - loss: 0.1364\n",
      "Epoch 13/20\n",
      "\u001b[1m1352/1352\u001b[0m \u001b[32m━━━━━━━━━━━━━━━━━━━━\u001b[0m\u001b[37m\u001b[0m \u001b[1m62s\u001b[0m 46ms/step - accuracy: 0.9561 - loss: 0.1286\n",
      "Epoch 14/20\n",
      "\u001b[1m1352/1352\u001b[0m \u001b[32m━━━━━━━━━━━━━━━━━━━━\u001b[0m\u001b[37m\u001b[0m \u001b[1m63s\u001b[0m 47ms/step - accuracy: 0.9577 - loss: 0.1243\n",
      "Epoch 15/20\n",
      "\u001b[1m1352/1352\u001b[0m \u001b[32m━━━━━━━━━━━━━━━━━━━━\u001b[0m\u001b[37m\u001b[0m \u001b[1m64s\u001b[0m 47ms/step - accuracy: 0.9608 - loss: 0.1128\n",
      "Epoch 16/20\n",
      "\u001b[1m1352/1352\u001b[0m \u001b[32m━━━━━━━━━━━━━━━━━━━━\u001b[0m\u001b[37m\u001b[0m \u001b[1m64s\u001b[0m 47ms/step - accuracy: 0.9631 - loss: 0.1078\n",
      "Epoch 17/20\n",
      "\u001b[1m1352/1352\u001b[0m \u001b[32m━━━━━━━━━━━━━━━━━━━━\u001b[0m\u001b[37m\u001b[0m \u001b[1m62s\u001b[0m 46ms/step - accuracy: 0.9650 - loss: 0.1022\n",
      "Epoch 18/20\n",
      "\u001b[1m1352/1352\u001b[0m \u001b[32m━━━━━━━━━━━━━━━━━━━━\u001b[0m\u001b[37m\u001b[0m \u001b[1m63s\u001b[0m 46ms/step - accuracy: 0.9662 - loss: 0.0995\n",
      "Epoch 19/20\n",
      "\u001b[1m1352/1352\u001b[0m \u001b[32m━━━━━━━━━━━━━━━━━━━━\u001b[0m\u001b[37m\u001b[0m \u001b[1m62s\u001b[0m 46ms/step - accuracy: 0.9689 - loss: 0.0914\n",
      "Epoch 20/20\n",
      "\u001b[1m1352/1352\u001b[0m \u001b[32m━━━━━━━━━━━━━━━━━━━━\u001b[0m\u001b[37m\u001b[0m \u001b[1m63s\u001b[0m 46ms/step - accuracy: 0.9715 - loss: 0.0847\n"
     ]
    },
    {
     "data": {
      "text/plain": [
       "<keras.src.callbacks.history.History at 0x186f83a4ad0>"
      ]
     },
     "execution_count": 10,
     "metadata": {},
     "output_type": "execute_result"
    }
   ],
   "source": [
    "model.fit(train_set,epochs = 20)"
   ]
  },
  {
   "cell_type": "code",
   "execution_count": 13,
   "id": "cedfdc63",
   "metadata": {},
   "outputs": [
    {
     "name": "stdout",
     "output_type": "stream",
     "text": [
      "\u001b[1m338/338\u001b[0m \u001b[32m━━━━━━━━━━━━━━━━━━━━\u001b[0m\u001b[37m\u001b[0m \u001b[1m30s\u001b[0m 61ms/step - accuracy: 0.9735 - loss: 0.1263\n"
     ]
    },
    {
     "data": {
      "text/plain": [
       "[0.12628726661205292, 0.9734817147254944]"
      ]
     },
     "execution_count": 13,
     "metadata": {},
     "output_type": "execute_result"
    }
   ],
   "source": [
    "model.metrics_names\n",
    "model.evaluate(test_set)\n"
   ]
  },
  {
   "cell_type": "code",
   "execution_count": 14,
   "id": "614ad58d",
   "metadata": {},
   "outputs": [
    {
     "name": "stderr",
     "output_type": "stream",
     "text": [
      "WARNING:absl:You are saving your model as an HDF5 file via `model.save()` or `keras.saving.save_model(model)`. This file format is considered legacy. We recommend using instead the native Keras format, e.g. `model.save('my_model.keras')` or `keras.saving.save_model(model, 'my_model.keras')`. \n"
     ]
    }
   ],
   "source": [
    "model.save('main_model.h5')\n"
   ]
  },
  {
   "cell_type": "code",
   "execution_count": 20,
   "id": "70d43e44",
   "metadata": {},
   "outputs": [
    {
     "name": "stdout",
     "output_type": "stream",
     "text": [
      "\u001b[1m1/1\u001b[0m \u001b[32m━━━━━━━━━━━━━━━━━━━━\u001b[0m\u001b[37m\u001b[0m \u001b[1m0s\u001b[0m 55ms/step\n",
      "0\n"
     ]
    }
   ],
   "source": [
    "image = tf.keras.utils.load_img(\"AIN (1).JPG\",\n",
    "                                color_mode='grayscale',target_size=(64,64))\n",
    "input_arr = tf.keras.utils.img_to_array(image)\n",
    "predicted_array = model.predict(np.array([input_arr/255]))\n",
    "print(np.argmax(predicted_array))"
   ]
  },
  {
   "cell_type": "code",
   "execution_count": null,
   "id": "8d381384",
   "metadata": {},
   "outputs": [],
   "source": []
  }
 ],
 "metadata": {
  "kernelspec": {
   "display_name": "Python 3",
   "language": "python",
   "name": "python3"
  },
  "language_info": {
   "codemirror_mode": {
    "name": "ipython",
    "version": 3
   },
   "file_extension": ".py",
   "mimetype": "text/x-python",
   "name": "python",
   "nbconvert_exporter": "python",
   "pygments_lexer": "ipython3",
   "version": "3.13.5"
  }
 },
 "nbformat": 4,
 "nbformat_minor": 5
}
